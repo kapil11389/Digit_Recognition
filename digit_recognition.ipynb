{
 "cells": [
  {
   "cell_type": "code",
   "execution_count": 1,
   "metadata": {},
   "outputs": [
    {
     "name": "stderr",
     "output_type": "stream",
     "text": [
      "Using TensorFlow backend.\n"
     ]
    }
   ],
   "source": [
    "import tensorflow as tf\n",
    "import numpy as np\n",
    "import keras\n",
    "import matplotlib.pyplot as plt\n",
    "%matplotlib inline\n",
    "import PIL.Image"
   ]
  },
  {
   "cell_type": "code",
   "execution_count": 2,
   "metadata": {
    "collapsed": true
   },
   "outputs": [],
   "source": [
    "from keras.models import Sequential\n",
    "from keras.layers import Dense,Conv2D,Dropout,MaxPooling2D,Flatten,Activation\n",
    "from keras.preprocessing import image"
   ]
  },
  {
   "cell_type": "markdown",
   "metadata": {},
   "source": [
    "## Intializing the model"
   ]
  },
  {
   "cell_type": "code",
   "execution_count": 3,
   "metadata": {
    "scrolled": true
   },
   "outputs": [
    {
     "name": "stdout",
     "output_type": "stream",
     "text": [
      "./digits/data/Sample001\n",
      "./digits/data/Sample002\n",
      "./digits/data/Sample003\n",
      "./digits/data/Sample004\n",
      "./digits/data/Sample005\n",
      "./digits/data/Sample006\n",
      "./digits/data/Sample007\n",
      "./digits/data/Sample008\n",
      "./digits/data/Sample009\n"
     ]
    }
   ],
   "source": [
    "classifier = Sequential()"
   ]
  },
  {
   "cell_type": "markdown",
   "metadata": {},
   "source": [
    "## Setting the Variables"
   ]
  },
  {
   "cell_type": "code",
   "execution_count": 4,
   "metadata": {
    "collapsed": true
   },
   "outputs": [],
   "source": [
    "conv1_units = 64\n",
    "img_h = 64\n",
    "img_w = 64\n",
    "img_c = 3\n",
    "conv2_units = 32\n",
    "conv3_units = 16\n",
    "pool_k  = 2\n",
    "dense1_units = 256\n",
    "dense2_units = 64\n",
    "dense3_units = 10"
   ]
  },
  {
   "cell_type": "markdown",
   "metadata": {},
   "source": [
    "## first Convolution layer"
   ]
  },
  {
   "cell_type": "code",
   "execution_count": 5,
   "metadata": {
    "collapsed": true
   },
   "outputs": [],
   "source": [
    "classifier.add(Conv2D(conv1_units,[5,5],padding = 'same',activation ='tanh',input_shape =[img_h,img_w,img_c]))"
   ]
  },
  {
   "cell_type": "markdown",
   "metadata": {},
   "source": [
    "## Dropout layer 1"
   ]
  },
  {
   "cell_type": "code",
   "execution_count": 6,
   "metadata": {
    "collapsed": true
   },
   "outputs": [],
   "source": [
    "classifier.add(Dropout(0.2))"
   ]
  },
  {
   "cell_type": "markdown",
   "metadata": {},
   "source": [
    "## Max Pooling 1"
   ]
  },
  {
   "cell_type": "code",
   "execution_count": 7,
   "metadata": {
    "collapsed": true
   },
   "outputs": [],
   "source": [
    "classifier.add(MaxPooling2D(pool_size = (pool_k,pool_k),strides = (pool_k,pool_k),padding = 'same'))"
   ]
  },
  {
   "cell_type": "markdown",
   "metadata": {},
   "source": [
    "## Second Layer"
   ]
  },
  {
   "cell_type": "code",
   "execution_count": 8,
   "metadata": {
    "collapsed": true
   },
   "outputs": [],
   "source": [
    "classifier.add(Conv2D(conv2_units,[5,5],padding = 'same',activation ='tanh'))\n",
    "classifier.add(Dropout(0.15))\n",
    "classifier.add(MaxPooling2D(pool_size = (pool_k,pool_k),strides = (pool_k,pool_k),padding = 'same'))"
   ]
  },
  {
   "cell_type": "markdown",
   "metadata": {},
   "source": [
    "## Third Layer"
   ]
  },
  {
   "cell_type": "code",
   "execution_count": 9,
   "metadata": {
    "collapsed": true
   },
   "outputs": [],
   "source": [
    "classifier.add(Conv2D(conv3_units,[5,5],padding = 'same',activation ='tanh'))\n",
    "classifier.add(Dropout(0.25))\n",
    "classifier.add(MaxPooling2D(pool_size = (pool_k,pool_k),strides = (pool_k,pool_k),padding = 'same'))"
   ]
  },
  {
   "cell_type": "markdown",
   "metadata": {},
   "source": [
    "## Flatten layer"
   ]
  },
  {
   "cell_type": "code",
   "execution_count": 10,
   "metadata": {
    "collapsed": true
   },
   "outputs": [],
   "source": [
    "classifier.add(Flatten())"
   ]
  },
  {
   "cell_type": "markdown",
   "metadata": {},
   "source": [
    "## Dense Layers"
   ]
  },
  {
   "cell_type": "code",
   "execution_count": 11,
   "metadata": {
    "collapsed": true
   },
   "outputs": [],
   "source": [
    "classifier.add(Dense(dense1_units,activation = 'relu'))\n",
    "#classifier.add(Dropout(0.3))\n",
    "classifier.add(Dense(dense2_units,activation = 'relu'))\n",
    "#classifier.add(Dropout(0.25))\n",
    "classifier.add(Dense(dense3_units,activation = 'softmax'))"
   ]
  },
  {
   "cell_type": "markdown",
   "metadata": {},
   "source": [
    "## Compiling the model"
   ]
  },
  {
   "cell_type": "code",
   "execution_count": 12,
   "metadata": {
    "collapsed": true
   },
   "outputs": [],
   "source": [
    "classifier.compile(optimizer='adam',loss='categorical_crossentropy',metrics = ['accuracy'])"
   ]
  },
  {
   "cell_type": "markdown",
   "metadata": {},
   "source": [
    "## Image PreProcessing"
   ]
  },
  {
   "cell_type": "code",
   "execution_count": 13,
   "metadata": {
    "collapsed": true
   },
   "outputs": [],
   "source": [
    "from keras.preprocessing.image import ImageDataGenerator"
   ]
  },
  {
   "cell_type": "markdown",
   "metadata": {},
   "source": [
    "## Test Image Generation"
   ]
  },
  {
   "cell_type": "code",
   "execution_count": 14,
   "metadata": {},
   "outputs": [],
   "source": [
    "test_images_gen = ImageDataGenerator(rescale = 1./255 )"
   ]
  },
  {
   "cell_type": "code",
   "execution_count": 15,
   "metadata": {},
   "outputs": [
    {
     "name": "stdout",
     "output_type": "stream",
     "text": [
      "Found 120 images belonging to 10 classes.\n"
     ]
    }
   ],
   "source": [
    "test_images = test_images_gen.flow_from_directory('./digits/test_data/',target_size = (img_h,img_w),batch_size = 32,class_mode = 'categorical')"
   ]
  },
  {
   "cell_type": "markdown",
   "metadata": {},
   "source": [
    "## Train Image Generation"
   ]
  },
  {
   "cell_type": "code",
   "execution_count": 16,
   "metadata": {},
   "outputs": [
    {
     "name": "stdout",
     "output_type": "stream",
     "text": [
      "Found 1373 images belonging to 10 classes.\n"
     ]
    }
   ],
   "source": [
    "train_images_gen = ImageDataGenerator(rescale = 1./255 )\n",
    "train_images = train_images_gen.flow_from_directory('./digits/train_data/',target_size = (img_h,img_w),batch_size = 32,class_mode = 'categorical')"
   ]
  },
  {
   "cell_type": "code",
   "execution_count": null,
   "metadata": {
    "collapsed": true
   },
   "outputs": [],
   "source": []
  },
  {
   "cell_type": "markdown",
   "metadata": {
    "collapsed": true
   },
   "source": [
    "## Training and Validating the data"
   ]
  },
  {
   "cell_type": "code",
   "execution_count": 17,
   "metadata": {},
   "outputs": [
    {
     "name": "stdout",
     "output_type": "stream",
     "text": [
      "Epoch 1/1\n",
      "1373/1373 [==============================] - 1503s 1s/step - loss: 0.0692 - acc: 0.9779 - val_loss: 0.4369 - val_acc: 0.9250\n"
     ]
    },
    {
     "data": {
      "text/plain": [
       "<keras.callbacks.History at 0x2b4ff793160>"
      ]
     },
     "execution_count": 17,
     "metadata": {},
     "output_type": "execute_result"
    }
   ],
   "source": [
    "classifier.fit_generator(train_images,steps_per_epoch=1373,validation_data=test_images,validation_steps=120)"
   ]
  },
  {
   "cell_type": "code",
   "execution_count": null,
   "metadata": {
    "collapsed": true
   },
   "outputs": [],
   "source": [
    "## Saving the weights"
   ]
  },
  {
   "cell_type": "code",
   "execution_count": 35,
   "metadata": {
    "collapsed": true
   },
   "outputs": [],
   "source": [
    "classifier.save_weights(\"./weights.h5\")"
   ]
  },
  {
   "cell_type": "markdown",
   "metadata": {},
   "source": [
    "## testing the model on Hold out Data"
   ]
  },
  {
   "cell_type": "code",
   "execution_count": 18,
   "metadata": {},
   "outputs": [],
   "source": [
    "from keras.preprocessing import image"
   ]
  },
  {
   "cell_type": "code",
   "execution_count": 19,
   "metadata": {},
   "outputs": [],
   "source": [
    "dest = \"./Digits/Hold_outData\"\n",
    "image_list=tf.gfile.ListDirectory(dest)\n",
    "predict_image=[]\n",
    "for i in image_list:\n",
    "    ld_img = image.load_img(dest+'/'+i,target_size=(img_h,img_w))\n",
    "    predict_image.append(image.img_to_array(ld_img))"
   ]
  },
  {
   "cell_type": "code",
   "execution_count": 32,
   "metadata": {},
   "outputs": [
    {
     "data": {
      "text/plain": [
       "array([[9.99999881e-01, 1.17362386e-09, 5.15941326e-12, 7.60438240e-11,\n",
       "        1.88230723e-10, 6.54580177e-08, 9.88171797e-17, 4.70022705e-08,\n",
       "        1.27847065e-11, 2.55654414e-10]], dtype=float32)"
      ]
     },
     "execution_count": 32,
     "metadata": {},
     "output_type": "execute_result"
    }
   ],
   "source": [
    "final_result=[]\n",
    "for data in predict_image:\n",
    "    data = np.expand_dims(data,axis=0)\n",
    "    final_result.append(classifier.predict(data))\n",
    "final_result[0]"
   ]
  },
  {
   "cell_type": "code",
   "execution_count": 33,
   "metadata": {},
   "outputs": [
    {
     "data": {
      "text/plain": [
       "{'_1': 0,\n",
       " '_10': 1,\n",
       " '_2': 2,\n",
       " '_3': 3,\n",
       " '_4': 4,\n",
       " '_5': 5,\n",
       " '_6': 6,\n",
       " '_7': 7,\n",
       " '_8': 8,\n",
       " '_9': 9}"
      ]
     },
     "execution_count": 33,
     "metadata": {},
     "output_type": "execute_result"
    }
   ],
   "source": [
    "train_images.class_indices"
   ]
  },
  {
   "cell_type": "code",
   "execution_count": 34,
   "metadata": {},
   "outputs": [
    {
     "name": "stdout",
     "output_type": "stream",
     "text": [
      "the digit predicted is :\n",
      "0\n",
      "the digit predicted is :\n",
      "0\n",
      "the digit predicted is :\n",
      "0\n",
      "the digit predicted is :\n",
      "2\n",
      "the digit predicted is :\n",
      "2\n",
      "the digit predicted is :\n",
      "2\n",
      "the digit predicted is :\n",
      "2\n",
      "the digit predicted is :\n",
      "4\n",
      "the digit predicted is :\n",
      "6\n",
      "the digit predicted is :\n",
      "6\n",
      "the digit predicted is :\n",
      "8\n",
      "the digit predicted is :\n",
      "8\n"
     ]
    }
   ],
   "source": [
    "for result in final_result:\n",
    "    final_pred = result.argmax()\n",
    "    print('the digit predicted is :')\n",
    "    if final_pred == 0:\n",
    "        print('0');\n",
    "    elif final_pred == 1:\n",
    "        print('9');\n",
    "    elif final_pred == 2:\n",
    "        print('1');\n",
    "    elif final_pred == 3:\n",
    "        print('2');\n",
    "    elif final_pred == 4:\n",
    "        print('3');\n",
    "    elif final_pred == 5:\n",
    "        print('4');\n",
    "    elif final_pred == 6:\n",
    "        print('5');\n",
    "    elif final_pred == 7:\n",
    "        print('6');\n",
    "    elif final_pred == 8:\n",
    "        print('7');\n",
    "    elif final_pred == 9:\n",
    "        print('8');"
   ]
  },
  {
   "cell_type": "code",
   "execution_count": null,
   "metadata": {
    "collapsed": true
   },
   "outputs": [],
   "source": []
  }
 ],
 "metadata": {
  "kernelspec": {
   "display_name": "Python 3",
   "language": "python",
   "name": "python3"
  },
  "language_info": {
   "codemirror_mode": {
    "name": "ipython",
    "version": 3
   },
   "file_extension": ".py",
   "mimetype": "text/x-python",
   "name": "python",
   "nbconvert_exporter": "python",
   "pygments_lexer": "ipython3",
   "version": "3.5.4"
  }
 },
 "nbformat": 4,
 "nbformat_minor": 2
}
